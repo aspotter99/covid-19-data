{
 "cells": [
  {
   "cell_type": "code",
   "execution_count": 1,
   "metadata": {},
   "outputs": [],
   "source": [
    "import pandas as pd\n",
    "import sqlite3 as sl"
   ]
  },
  {
   "cell_type": "code",
   "execution_count": 2,
   "metadata": {},
   "outputs": [],
   "source": [
    "#create database object\n",
    "conn = sl.connect('NYT_covid.db')\n",
    "c = conn.cursor()"
   ]
  },
  {
   "cell_type": "code",
   "execution_count": 5,
   "metadata": {},
   "outputs": [],
   "source": [
    "#create table and populate\n",
    "# deaths = pd.read_csv('Data-files/deaths.csv', index_col=0, encoding='latin-1')\n",
    "\n",
    "# c.execute('DROP TABLE IF EXISTS deaths')\n",
    "# c.execute('CREATE TABLE deaths (country str, placename str, frequency, start_date datetime, end_date datetime, year int, month int, week int, deaths int, expected_deaths int, excess_deaths int, baseline str)')\n",
    "# conn.commit()\n",
    "\n",
    "# deaths.to_sql('deaths',conn, if_exists='replace')\n",
    "\n",
    "mask_use = pd.read_csv('Data-files/mask-use-by-county.csv', index_col=0, encoding='latin-1')\n",
    "\n",
    "c.execute('DROP TABLE IF EXISTS mask_use')\n",
    "c.execute('CREATE TABLE mask_use (countyfp str, never, rarely, sometimes, frequently, always)')\n",
    "conn.commit()\n",
    "\n",
    "mask_use.to_sql('mask_use',conn, if_exists='replace')\n",
    "\n",
    "counties = pd.read_csv('Data-files/us-counties.csv', index_col=0, encoding='latin-1')\n",
    "\n",
    "c.execute('DROP TABLE IF EXISTS counties')\n",
    "c.execute('CREATE TABLE counties (date datetime, county str, state str, fips str, cases int, deaths int, confirmed_cases int, confirmed_deaths int, probable_cases int, probable_deaths int)')\n",
    "conn.commit()\n",
    "\n",
    "counties.to_sql('counties',conn, if_exists='replace')\n",
    "\n",
    "states = pd.read_csv('Data-files/us-states.csv', index_col=0, encoding='latin-1')\n",
    "\n",
    "c.execute('DROP TABLE IF EXISTS states')\n",
    "c.execute('CREATE TABLE states (date datetime, state str, fips str, cases int, deaths int, confirmed_cases int, confirmed_deaths int, probable_cases int, probable_deaths int)')\n",
    "conn.commit()\n",
    "\n",
    "states.to_sql('states',conn, if_exists='replace')\n",
    "\n",
    "us = pd.read_csv('Data-files/us.csv', index_col=0, encoding='latin-1')\n",
    "\n",
    "c.execute('DROP TABLE IF EXISTS us')\n",
    "c.execute('CREATE TABLE us (date datetime, cases int, deaths int, confirmed_cases int, confirmed_deaths int, probable_cases int, probable_deaths int)')\n",
    "conn.commit()\n",
    "\n",
    "us.to_sql('us',conn, if_exists='replace')"
   ]
  },
  {
   "cell_type": "code",
   "execution_count": 6,
   "metadata": {},
   "outputs": [
    {
     "name": "stdout",
     "output_type": "stream",
     "text": [
      "deaths\n",
      "mask_use\n",
      "counties\n",
      "states\n",
      "us\n"
     ]
    }
   ],
   "source": [
    "#Confirm that tables necessary are present\n",
    "\n",
    "res = conn.execute(\"SELECT name FROM sqlite_master WHERE type='table';\")\n",
    "for name in res:\n",
    "    print (name[0])"
   ]
  },
  {
   "cell_type": "code",
   "execution_count": null,
   "metadata": {},
   "outputs": [],
   "source": []
  }
 ],
 "metadata": {
  "kernelspec": {
   "display_name": "amanda",
   "language": "python",
   "name": "amanda"
  },
  "language_info": {
   "codemirror_mode": {
    "name": "ipython",
    "version": 3
   },
   "file_extension": ".py",
   "mimetype": "text/x-python",
   "name": "python",
   "nbconvert_exporter": "python",
   "pygments_lexer": "ipython3",
   "version": "3.8.2"
  }
 },
 "nbformat": 4,
 "nbformat_minor": 4
}
