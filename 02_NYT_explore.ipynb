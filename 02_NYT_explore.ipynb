{
 "cells": [
  {
   "cell_type": "code",
   "execution_count": 1,
   "metadata": {},
   "outputs": [],
   "source": [
    "import pandas as pd\n",
    "import sqlite3 as sl\n",
    "conn = sl.connect('NYT_covid.db')\n",
    "c = conn.cursor()"
   ]
  },
  {
   "cell_type": "code",
   "execution_count": 2,
   "metadata": {},
   "outputs": [
    {
     "data": {
      "text/html": [
       "<div>\n",
       "<style scoped>\n",
       "    .dataframe tbody tr th:only-of-type {\n",
       "        vertical-align: middle;\n",
       "    }\n",
       "\n",
       "    .dataframe tbody tr th {\n",
       "        vertical-align: top;\n",
       "    }\n",
       "\n",
       "    .dataframe thead th {\n",
       "        text-align: right;\n",
       "    }\n",
       "</style>\n",
       "<table border=\"1\" class=\"dataframe\">\n",
       "  <thead>\n",
       "    <tr style=\"text-align: right;\">\n",
       "      <th></th>\n",
       "      <th>date</th>\n",
       "      <th>state</th>\n",
       "      <th>county</th>\n",
       "      <th>cases</th>\n",
       "      <th>deaths</th>\n",
       "      <th>pct_never_mask</th>\n",
       "      <th>pct_rarely_mask</th>\n",
       "      <th>pct_sometimes_mask</th>\n",
       "      <th>pct_frequently_mask</th>\n",
       "      <th>pct_always_mask</th>\n",
       "    </tr>\n",
       "  </thead>\n",
       "  <tbody>\n",
       "    <tr>\n",
       "      <th>0</th>\n",
       "      <td>2020-09-08</td>\n",
       "      <td>Illinois</td>\n",
       "      <td>Woodford</td>\n",
       "      <td>331</td>\n",
       "      <td>4</td>\n",
       "      <td>0.062</td>\n",
       "      <td>0.067</td>\n",
       "      <td>0.112</td>\n",
       "      <td>0.242</td>\n",
       "      <td>0.517</td>\n",
       "    </tr>\n",
       "    <tr>\n",
       "      <th>1</th>\n",
       "      <td>2020-09-08</td>\n",
       "      <td>Illinois</td>\n",
       "      <td>Winnebago</td>\n",
       "      <td>4572</td>\n",
       "      <td>152</td>\n",
       "      <td>0.031</td>\n",
       "      <td>0.030</td>\n",
       "      <td>0.089</td>\n",
       "      <td>0.193</td>\n",
       "      <td>0.657</td>\n",
       "    </tr>\n",
       "    <tr>\n",
       "      <th>2</th>\n",
       "      <td>2020-09-08</td>\n",
       "      <td>Illinois</td>\n",
       "      <td>Williamson</td>\n",
       "      <td>1065</td>\n",
       "      <td>20</td>\n",
       "      <td>0.095</td>\n",
       "      <td>0.122</td>\n",
       "      <td>0.136</td>\n",
       "      <td>0.183</td>\n",
       "      <td>0.464</td>\n",
       "    </tr>\n",
       "    <tr>\n",
       "      <th>3</th>\n",
       "      <td>2020-09-08</td>\n",
       "      <td>Illinois</td>\n",
       "      <td>Will</td>\n",
       "      <td>12415</td>\n",
       "      <td>361</td>\n",
       "      <td>0.041</td>\n",
       "      <td>0.024</td>\n",
       "      <td>0.062</td>\n",
       "      <td>0.134</td>\n",
       "      <td>0.739</td>\n",
       "    </tr>\n",
       "    <tr>\n",
       "      <th>4</th>\n",
       "      <td>2020-09-08</td>\n",
       "      <td>Illinois</td>\n",
       "      <td>Whiteside</td>\n",
       "      <td>612</td>\n",
       "      <td>19</td>\n",
       "      <td>0.025</td>\n",
       "      <td>0.066</td>\n",
       "      <td>0.042</td>\n",
       "      <td>0.218</td>\n",
       "      <td>0.649</td>\n",
       "    </tr>\n",
       "    <tr>\n",
       "      <th>...</th>\n",
       "      <td>...</td>\n",
       "      <td>...</td>\n",
       "      <td>...</td>\n",
       "      <td>...</td>\n",
       "      <td>...</td>\n",
       "      <td>...</td>\n",
       "      <td>...</td>\n",
       "      <td>...</td>\n",
       "      <td>...</td>\n",
       "      <td>...</td>\n",
       "    </tr>\n",
       "    <tr>\n",
       "      <th>16406</th>\n",
       "      <td>2020-01-28</td>\n",
       "      <td>Illinois</td>\n",
       "      <td>Cook</td>\n",
       "      <td>1</td>\n",
       "      <td>0</td>\n",
       "      <td>0.023</td>\n",
       "      <td>0.021</td>\n",
       "      <td>0.072</td>\n",
       "      <td>0.162</td>\n",
       "      <td>0.722</td>\n",
       "    </tr>\n",
       "    <tr>\n",
       "      <th>16407</th>\n",
       "      <td>2020-01-27</td>\n",
       "      <td>Illinois</td>\n",
       "      <td>Cook</td>\n",
       "      <td>1</td>\n",
       "      <td>0</td>\n",
       "      <td>0.023</td>\n",
       "      <td>0.021</td>\n",
       "      <td>0.072</td>\n",
       "      <td>0.162</td>\n",
       "      <td>0.722</td>\n",
       "    </tr>\n",
       "    <tr>\n",
       "      <th>16408</th>\n",
       "      <td>2020-01-26</td>\n",
       "      <td>Illinois</td>\n",
       "      <td>Cook</td>\n",
       "      <td>1</td>\n",
       "      <td>0</td>\n",
       "      <td>0.023</td>\n",
       "      <td>0.021</td>\n",
       "      <td>0.072</td>\n",
       "      <td>0.162</td>\n",
       "      <td>0.722</td>\n",
       "    </tr>\n",
       "    <tr>\n",
       "      <th>16409</th>\n",
       "      <td>2020-01-25</td>\n",
       "      <td>Illinois</td>\n",
       "      <td>Cook</td>\n",
       "      <td>1</td>\n",
       "      <td>0</td>\n",
       "      <td>0.023</td>\n",
       "      <td>0.021</td>\n",
       "      <td>0.072</td>\n",
       "      <td>0.162</td>\n",
       "      <td>0.722</td>\n",
       "    </tr>\n",
       "    <tr>\n",
       "      <th>16410</th>\n",
       "      <td>2020-01-24</td>\n",
       "      <td>Illinois</td>\n",
       "      <td>Cook</td>\n",
       "      <td>1</td>\n",
       "      <td>0</td>\n",
       "      <td>0.023</td>\n",
       "      <td>0.021</td>\n",
       "      <td>0.072</td>\n",
       "      <td>0.162</td>\n",
       "      <td>0.722</td>\n",
       "    </tr>\n",
       "  </tbody>\n",
       "</table>\n",
       "<p>16411 rows × 10 columns</p>\n",
       "</div>"
      ],
      "text/plain": [
       "             date     state      county  cases  deaths  pct_never_mask  \\\n",
       "0      2020-09-08  Illinois    Woodford    331       4           0.062   \n",
       "1      2020-09-08  Illinois   Winnebago   4572     152           0.031   \n",
       "2      2020-09-08  Illinois  Williamson   1065      20           0.095   \n",
       "3      2020-09-08  Illinois        Will  12415     361           0.041   \n",
       "4      2020-09-08  Illinois   Whiteside    612      19           0.025   \n",
       "...           ...       ...         ...    ...     ...             ...   \n",
       "16406  2020-01-28  Illinois        Cook      1       0           0.023   \n",
       "16407  2020-01-27  Illinois        Cook      1       0           0.023   \n",
       "16408  2020-01-26  Illinois        Cook      1       0           0.023   \n",
       "16409  2020-01-25  Illinois        Cook      1       0           0.023   \n",
       "16410  2020-01-24  Illinois        Cook      1       0           0.023   \n",
       "\n",
       "       pct_rarely_mask  pct_sometimes_mask  pct_frequently_mask  \\\n",
       "0                0.067               0.112                0.242   \n",
       "1                0.030               0.089                0.193   \n",
       "2                0.122               0.136                0.183   \n",
       "3                0.024               0.062                0.134   \n",
       "4                0.066               0.042                0.218   \n",
       "...                ...                 ...                  ...   \n",
       "16406            0.021               0.072                0.162   \n",
       "16407            0.021               0.072                0.162   \n",
       "16408            0.021               0.072                0.162   \n",
       "16409            0.021               0.072                0.162   \n",
       "16410            0.021               0.072                0.162   \n",
       "\n",
       "       pct_always_mask  \n",
       "0                0.517  \n",
       "1                0.657  \n",
       "2                0.464  \n",
       "3                0.739  \n",
       "4                0.649  \n",
       "...                ...  \n",
       "16406            0.722  \n",
       "16407            0.722  \n",
       "16408            0.722  \n",
       "16409            0.722  \n",
       "16410            0.722  \n",
       "\n",
       "[16411 rows x 10 columns]"
      ]
     },
     "execution_count": 2,
     "metadata": {},
     "output_type": "execute_result"
    }
   ],
   "source": [
    "# join county data with mask use survey data\n",
    "\n",
    "df = pd.read_sql('''SELECT c.date, state, county, cases, deaths,\n",
    "                           m.never as pct_never_mask,\n",
    "                           m.rarely as pct_rarely_mask,\n",
    "                           m.sometimes as pct_sometimes_mask,\n",
    "                           m.frequently as pct_frequently_mask,\n",
    "                           m.always as pct_always_mask\n",
    "                    FROM counties c \n",
    "                    JOIN mask_use m on c.fips = m.countyfp\n",
    "                    WHERE c.state = 'Illinois'\n",
    "                    ORDER BY c.date desc''',conn)\n",
    "\n",
    "df"
   ]
  },
  {
   "cell_type": "code",
   "execution_count": 3,
   "metadata": {},
   "outputs": [],
   "source": [
    "import numpy as np\n",
    "import matplotlib.pyplot as plt\n",
    "import seaborn as sns\n",
    "\n",
    "np.random.seed(42)\n",
    "%matplotlib inline\n",
    "%load_ext autoreload\n",
    "%autoreload 2"
   ]
  },
  {
   "cell_type": "code",
   "execution_count": 16,
   "metadata": {},
   "outputs": [
    {
     "data": {
      "text/plain": [
       "<matplotlib.axes._subplots.AxesSubplot at 0x7fdbf701adc0>"
      ]
     },
     "execution_count": 16,
     "metadata": {},
     "output_type": "execute_result"
    },
    {
     "data": {
      "image/png": "[encoded data removed]",
      "text/plain": [
       "<Figure size 432x288 with 1 Axes>"
      ]
     },
     "metadata": {
      "needs_background": "light"
     },
     "output_type": "display_data"
    }
   ],
   "source": [
    "sns.boxplot(df['pct_always_mask'])"
   ]
  },
  {
   "cell_type": "code",
   "execution_count": 5,
   "metadata": {},
   "outputs": [
    {
     "data": {
      "text/plain": [
       "<matplotlib.axes._subplots.AxesSubplot at 0x7fdbf5221ca0>"
      ]
     },
     "execution_count": 5,
     "metadata": {},
     "output_type": "execute_result"
    },
    {
     "data": {
      "image/png": "[encoded data removed]",
      "text/plain": [
       "<Figure size 432x288 with 1 Axes>"
      ]
     },
     "metadata": {
      "needs_background": "light"
     },
     "output_type": "display_data"
    }
   ],
   "source": [
    "sns.distplot(df.pct_always_mask)"
   ]
  },
  {
   "cell_type": "code",
   "execution_count": 6,
   "metadata": {},
   "outputs": [
    {
     "data": {
      "text/plain": [
       "<matplotlib.axes._subplots.AxesSubplot at 0x7fdbf535c580>"
      ]
     },
     "execution_count": 6,
     "metadata": {},
     "output_type": "execute_result"
    },
    {
     "data": {
      "image/png": "[encoded data removed]",
      "text/plain": [
       "<Figure size 432x288 with 1 Axes>"
      ]
     },
     "metadata": {
      "needs_background": "light"
     },
     "output_type": "display_data"
    }
   ],
   "source": [
    "sns.distplot(df.pct_never_mask)"
   ]
  },
  {
   "cell_type": "code",
   "execution_count": 7,
   "metadata": {},
   "outputs": [
    {
     "data": {
      "text/plain": [
       "<matplotlib.axes._subplots.AxesSubplot at 0x7fdbf5529130>"
      ]
     },
     "execution_count": 7,
     "metadata": {},
     "output_type": "execute_result"
    },
    {
     "data": {
      "image/png": "[encoded data removed]",
      "text/plain": [
       "<Figure size 432x288 with 1 Axes>"
      ]
     },
     "metadata": {
      "needs_background": "light"
     },
     "output_type": "display_data"
    }
   ],
   "source": [
    "sns.distplot(df.pct_rarely_mask)"
   ]
  },
  {
   "cell_type": "code",
   "execution_count": 8,
   "metadata": {},
   "outputs": [
    {
     "data": {
      "text/plain": [
       "<matplotlib.axes._subplots.AxesSubplot at 0x7fdbf5544640>"
      ]
     },
     "execution_count": 8,
     "metadata": {},
     "output_type": "execute_result"
    },
    {
     "data": {
      "image/png": "[encoded data removed]",
      "text/plain": [
       "<Figure size 432x288 with 1 Axes>"
      ]
     },
     "metadata": {
      "needs_background": "light"
     },
     "output_type": "display_data"
    }
   ],
   "source": [
    "sns.distplot(df.pct_sometimes_mask)"
   ]
  },
  {
   "cell_type": "code",
   "execution_count": 9,
   "metadata": {},
   "outputs": [
    {
     "data": {
      "text/plain": [
       "<matplotlib.axes._subplots.AxesSubplot at 0x7fdbf59cf070>"
      ]
     },
     "execution_count": 9,
     "metadata": {},
     "output_type": "execute_result"
    },
    {
     "data": {
      "image/png": "[encoded data removed]",
      "text/plain": [
       "<Figure size 432x288 with 1 Axes>"
      ]
     },
     "metadata": {
      "needs_background": "light"
     },
     "output_type": "display_data"
    }
   ],
   "source": [
    "sns.distplot(df.pct_frequently_mask)"
   ]
  },
  {
   "cell_type": "code",
   "execution_count": 17,
   "metadata": {},
   "outputs": [
    {
     "data": {
      "text/html": [
       "<div>\n",
       "<style scoped>\n",
       "    .dataframe tbody tr th:only-of-type {\n",
       "        vertical-align: middle;\n",
       "    }\n",
       "\n",
       "    .dataframe tbody tr th {\n",
       "        vertical-align: top;\n",
       "    }\n",
       "\n",
       "    .dataframe thead th {\n",
       "        text-align: right;\n",
       "    }\n",
       "</style>\n",
       "<table border=\"1\" class=\"dataframe\">\n",
       "  <thead>\n",
       "    <tr style=\"text-align: right;\">\n",
       "      <th></th>\n",
       "      <th>date</th>\n",
       "      <th>state</th>\n",
       "      <th>county</th>\n",
       "      <th>cases</th>\n",
       "      <th>deaths</th>\n",
       "      <th>pct_never_mask</th>\n",
       "      <th>pct_rarely_mask</th>\n",
       "      <th>pct_sometimes_mask</th>\n",
       "      <th>pct_frequently_mask</th>\n",
       "      <th>pct_always_mask</th>\n",
       "    </tr>\n",
       "  </thead>\n",
       "  <tbody>\n",
       "    <tr>\n",
       "      <th>0</th>\n",
       "      <td>2020-09-08</td>\n",
       "      <td>Illinois</td>\n",
       "      <td>St. Clair</td>\n",
       "      <td>6356</td>\n",
       "      <td>178</td>\n",
       "      <td>0.032</td>\n",
       "      <td>0.027</td>\n",
       "      <td>0.037</td>\n",
       "      <td>0.138</td>\n",
       "      <td>0.767</td>\n",
       "    </tr>\n",
       "    <tr>\n",
       "      <th>1</th>\n",
       "      <td>2020-09-08</td>\n",
       "      <td>Illinois</td>\n",
       "      <td>Lake</td>\n",
       "      <td>15354</td>\n",
       "      <td>473</td>\n",
       "      <td>0.020</td>\n",
       "      <td>0.018</td>\n",
       "      <td>0.046</td>\n",
       "      <td>0.146</td>\n",
       "      <td>0.769</td>\n",
       "    </tr>\n",
       "    <tr>\n",
       "      <th>2</th>\n",
       "      <td>2020-09-08</td>\n",
       "      <td>Illinois</td>\n",
       "      <td>Kendall</td>\n",
       "      <td>1797</td>\n",
       "      <td>26</td>\n",
       "      <td>0.001</td>\n",
       "      <td>0.009</td>\n",
       "      <td>0.065</td>\n",
       "      <td>0.136</td>\n",
       "      <td>0.788</td>\n",
       "    </tr>\n",
       "    <tr>\n",
       "      <th>3</th>\n",
       "      <td>2020-09-08</td>\n",
       "      <td>Illinois</td>\n",
       "      <td>DuPage</td>\n",
       "      <td>15499</td>\n",
       "      <td>540</td>\n",
       "      <td>0.010</td>\n",
       "      <td>0.010</td>\n",
       "      <td>0.056</td>\n",
       "      <td>0.163</td>\n",
       "      <td>0.760</td>\n",
       "    </tr>\n",
       "    <tr>\n",
       "      <th>4</th>\n",
       "      <td>2020-09-08</td>\n",
       "      <td>Illinois</td>\n",
       "      <td>DeKalb</td>\n",
       "      <td>1308</td>\n",
       "      <td>36</td>\n",
       "      <td>0.007</td>\n",
       "      <td>0.012</td>\n",
       "      <td>0.034</td>\n",
       "      <td>0.191</td>\n",
       "      <td>0.756</td>\n",
       "    </tr>\n",
       "    <tr>\n",
       "      <th>...</th>\n",
       "      <td>...</td>\n",
       "      <td>...</td>\n",
       "      <td>...</td>\n",
       "      <td>...</td>\n",
       "      <td>...</td>\n",
       "      <td>...</td>\n",
       "      <td>...</td>\n",
       "      <td>...</td>\n",
       "      <td>...</td>\n",
       "      <td>...</td>\n",
       "    </tr>\n",
       "    <tr>\n",
       "      <th>882</th>\n",
       "      <td>2020-03-14</td>\n",
       "      <td>Illinois</td>\n",
       "      <td>Lake</td>\n",
       "      <td>3</td>\n",
       "      <td>0</td>\n",
       "      <td>0.020</td>\n",
       "      <td>0.018</td>\n",
       "      <td>0.046</td>\n",
       "      <td>0.146</td>\n",
       "      <td>0.769</td>\n",
       "    </tr>\n",
       "    <tr>\n",
       "      <th>883</th>\n",
       "      <td>2020-03-14</td>\n",
       "      <td>Illinois</td>\n",
       "      <td>DuPage</td>\n",
       "      <td>1</td>\n",
       "      <td>0</td>\n",
       "      <td>0.010</td>\n",
       "      <td>0.010</td>\n",
       "      <td>0.056</td>\n",
       "      <td>0.163</td>\n",
       "      <td>0.760</td>\n",
       "    </tr>\n",
       "    <tr>\n",
       "      <th>884</th>\n",
       "      <td>2020-03-13</td>\n",
       "      <td>Illinois</td>\n",
       "      <td>Lake</td>\n",
       "      <td>2</td>\n",
       "      <td>0</td>\n",
       "      <td>0.020</td>\n",
       "      <td>0.018</td>\n",
       "      <td>0.046</td>\n",
       "      <td>0.146</td>\n",
       "      <td>0.769</td>\n",
       "    </tr>\n",
       "    <tr>\n",
       "      <th>885</th>\n",
       "      <td>2020-03-12</td>\n",
       "      <td>Illinois</td>\n",
       "      <td>Lake</td>\n",
       "      <td>1</td>\n",
       "      <td>0</td>\n",
       "      <td>0.020</td>\n",
       "      <td>0.018</td>\n",
       "      <td>0.046</td>\n",
       "      <td>0.146</td>\n",
       "      <td>0.769</td>\n",
       "    </tr>\n",
       "    <tr>\n",
       "      <th>886</th>\n",
       "      <td>2020-03-11</td>\n",
       "      <td>Illinois</td>\n",
       "      <td>Lake</td>\n",
       "      <td>1</td>\n",
       "      <td>0</td>\n",
       "      <td>0.020</td>\n",
       "      <td>0.018</td>\n",
       "      <td>0.046</td>\n",
       "      <td>0.146</td>\n",
       "      <td>0.769</td>\n",
       "    </tr>\n",
       "  </tbody>\n",
       "</table>\n",
       "<p>887 rows × 10 columns</p>\n",
       "</div>"
      ],
      "text/plain": [
       "           date     state     county  cases  deaths  pct_never_mask  \\\n",
       "0    2020-09-08  Illinois  St. Clair   6356     178           0.032   \n",
       "1    2020-09-08  Illinois       Lake  15354     473           0.020   \n",
       "2    2020-09-08  Illinois    Kendall   1797      26           0.001   \n",
       "3    2020-09-08  Illinois     DuPage  15499     540           0.010   \n",
       "4    2020-09-08  Illinois     DeKalb   1308      36           0.007   \n",
       "..          ...       ...        ...    ...     ...             ...   \n",
       "882  2020-03-14  Illinois       Lake      3       0           0.020   \n",
       "883  2020-03-14  Illinois     DuPage      1       0           0.010   \n",
       "884  2020-03-13  Illinois       Lake      2       0           0.020   \n",
       "885  2020-03-12  Illinois       Lake      1       0           0.020   \n",
       "886  2020-03-11  Illinois       Lake      1       0           0.020   \n",
       "\n",
       "     pct_rarely_mask  pct_sometimes_mask  pct_frequently_mask  pct_always_mask  \n",
       "0              0.027               0.037                0.138            0.767  \n",
       "1              0.018               0.046                0.146            0.769  \n",
       "2              0.009               0.065                0.136            0.788  \n",
       "3              0.010               0.056                0.163            0.760  \n",
       "4              0.012               0.034                0.191            0.756  \n",
       "..               ...                 ...                  ...              ...  \n",
       "882            0.018               0.046                0.146            0.769  \n",
       "883            0.010               0.056                0.163            0.760  \n",
       "884            0.018               0.046                0.146            0.769  \n",
       "885            0.018               0.046                0.146            0.769  \n",
       "886            0.018               0.046                0.146            0.769  \n",
       "\n",
       "[887 rows x 10 columns]"
      ]
     },
     "execution_count": 17,
     "metadata": {},
     "output_type": "execute_result"
    }
   ],
   "source": [
    "# join county data with mask use survey data\n",
    "\n",
    "high_mask = pd.read_sql('''SELECT c.date, state, county, cases, deaths,\n",
    "                           m.never as pct_never_mask,\n",
    "                           m.rarely as pct_rarely_mask,\n",
    "                           m.sometimes as pct_sometimes_mask,\n",
    "                           m.frequently as pct_frequently_mask,\n",
    "                           m.always as pct_always_mask\n",
    "                    FROM counties c \n",
    "                    JOIN mask_use m on c.fips = m.countyfp\n",
    "                    WHERE c.state = 'Illinois'\n",
    "                    AND m.always > 0.75\n",
    "                    ORDER BY c.date desc''',conn)\n",
    "\n",
    "high_mask"
   ]
  },
  {
   "cell_type": "code",
   "execution_count": 19,
   "metadata": {},
   "outputs": [
    {
     "data": {
      "text/html": [
       "<div>\n",
       "<style scoped>\n",
       "    .dataframe tbody tr th:only-of-type {\n",
       "        vertical-align: middle;\n",
       "    }\n",
       "\n",
       "    .dataframe tbody tr th {\n",
       "        vertical-align: top;\n",
       "    }\n",
       "\n",
       "    .dataframe thead th {\n",
       "        text-align: right;\n",
       "    }\n",
       "</style>\n",
       "<table border=\"1\" class=\"dataframe\">\n",
       "  <thead>\n",
       "    <tr style=\"text-align: right;\">\n",
       "      <th></th>\n",
       "      <th>state</th>\n",
       "      <th>county</th>\n",
       "      <th>cases</th>\n",
       "      <th>deaths</th>\n",
       "      <th>pct_never_mask</th>\n",
       "      <th>pct_rarely_mask</th>\n",
       "      <th>pct_sometimes_mask</th>\n",
       "      <th>pct_frequently_mask</th>\n",
       "      <th>pct_always_mask</th>\n",
       "    </tr>\n",
       "    <tr>\n",
       "      <th>date</th>\n",
       "      <th></th>\n",
       "      <th></th>\n",
       "      <th></th>\n",
       "      <th></th>\n",
       "      <th></th>\n",
       "      <th></th>\n",
       "      <th></th>\n",
       "      <th></th>\n",
       "      <th></th>\n",
       "    </tr>\n",
       "  </thead>\n",
       "  <tbody>\n",
       "    <tr>\n",
       "      <th>2020-09-08</th>\n",
       "      <td>Illinois</td>\n",
       "      <td>St. Clair</td>\n",
       "      <td>6356</td>\n",
       "      <td>178</td>\n",
       "      <td>0.032</td>\n",
       "      <td>0.027</td>\n",
       "      <td>0.037</td>\n",
       "      <td>0.138</td>\n",
       "      <td>0.767</td>\n",
       "    </tr>\n",
       "    <tr>\n",
       "      <th>2020-09-08</th>\n",
       "      <td>Illinois</td>\n",
       "      <td>Lake</td>\n",
       "      <td>15354</td>\n",
       "      <td>473</td>\n",
       "      <td>0.020</td>\n",
       "      <td>0.018</td>\n",
       "      <td>0.046</td>\n",
       "      <td>0.146</td>\n",
       "      <td>0.769</td>\n",
       "    </tr>\n",
       "    <tr>\n",
       "      <th>2020-09-08</th>\n",
       "      <td>Illinois</td>\n",
       "      <td>Kendall</td>\n",
       "      <td>1797</td>\n",
       "      <td>26</td>\n",
       "      <td>0.001</td>\n",
       "      <td>0.009</td>\n",
       "      <td>0.065</td>\n",
       "      <td>0.136</td>\n",
       "      <td>0.788</td>\n",
       "    </tr>\n",
       "    <tr>\n",
       "      <th>2020-09-08</th>\n",
       "      <td>Illinois</td>\n",
       "      <td>DuPage</td>\n",
       "      <td>15499</td>\n",
       "      <td>540</td>\n",
       "      <td>0.010</td>\n",
       "      <td>0.010</td>\n",
       "      <td>0.056</td>\n",
       "      <td>0.163</td>\n",
       "      <td>0.760</td>\n",
       "    </tr>\n",
       "    <tr>\n",
       "      <th>2020-09-08</th>\n",
       "      <td>Illinois</td>\n",
       "      <td>DeKalb</td>\n",
       "      <td>1308</td>\n",
       "      <td>36</td>\n",
       "      <td>0.007</td>\n",
       "      <td>0.012</td>\n",
       "      <td>0.034</td>\n",
       "      <td>0.191</td>\n",
       "      <td>0.756</td>\n",
       "    </tr>\n",
       "  </tbody>\n",
       "</table>\n",
       "</div>"
      ],
      "text/plain": [
       "               state     county  cases  deaths  pct_never_mask  \\\n",
       "date                                                             \n",
       "2020-09-08  Illinois  St. Clair   6356     178           0.032   \n",
       "2020-09-08  Illinois       Lake  15354     473           0.020   \n",
       "2020-09-08  Illinois    Kendall   1797      26           0.001   \n",
       "2020-09-08  Illinois     DuPage  15499     540           0.010   \n",
       "2020-09-08  Illinois     DeKalb   1308      36           0.007   \n",
       "\n",
       "            pct_rarely_mask  pct_sometimes_mask  pct_frequently_mask  \\\n",
       "date                                                                   \n",
       "2020-09-08            0.027               0.037                0.138   \n",
       "2020-09-08            0.018               0.046                0.146   \n",
       "2020-09-08            0.009               0.065                0.136   \n",
       "2020-09-08            0.010               0.056                0.163   \n",
       "2020-09-08            0.012               0.034                0.191   \n",
       "\n",
       "            pct_always_mask  \n",
       "date                         \n",
       "2020-09-08            0.767  \n",
       "2020-09-08            0.769  \n",
       "2020-09-08            0.788  \n",
       "2020-09-08            0.760  \n",
       "2020-09-08            0.756  "
      ]
     },
     "execution_count": 19,
     "metadata": {},
     "output_type": "execute_result"
    }
   ],
   "source": [
    "high_mask.date = pd.to_datetime(high_mask['date'])\n",
    "high_mask = high_mask.set_index('date')\n",
    "high_mask.head()"
   ]
  },
  {
   "cell_type": "code",
   "execution_count": 20,
   "metadata": {},
   "outputs": [
    {
     "data": {
      "text/plain": [
       "<matplotlib.axes._subplots.AxesSubplot at 0x7fdbf728ed60>"
      ]
     },
     "execution_count": 20,
     "metadata": {},
     "output_type": "execute_result"
    },
    {
     "data": {
      "image/png": "[encoded data removed]",
      "text/plain": [
       "<Figure size 432x288 with 1 Axes>"
      ]
     },
     "metadata": {
      "needs_background": "light"
     },
     "output_type": "display_data"
    }
   ],
   "source": [
    "high_mask[['deaths','cases']].plot(grid=True)"
   ]
  },
  {
   "cell_type": "code",
   "execution_count": 21,
   "metadata": {},
   "outputs": [
    {
     "data": {
      "text/plain": [
       "array(['St. Clair', 'Lake', 'Kendall', 'DuPage', 'DeKalb'], dtype=object)"
      ]
     },
     "execution_count": 21,
     "metadata": {},
     "output_type": "execute_result"
    }
   ],
   "source": [
    "high_mask.county.unique()"
   ]
  },
  {
   "cell_type": "code",
   "execution_count": null,
   "metadata": {},
   "outputs": [],
   "source": []
  }
 ],
 "metadata": {
  "kernelspec": {
   "display_name": "amanda",
   "language": "python",
   "name": "amanda"
  },
  "language_info": {
   "codemirror_mode": {
    "name": "ipython",
    "version": 3
   },
   "file_extension": ".py",
   "mimetype": "text/x-python",
   "name": "python",
   "nbconvert_exporter": "python",
   "pygments_lexer": "ipython3",
   "version": "3.8.2"
  }
 },
 "nbformat": 4,
 "nbformat_minor": 4
}
